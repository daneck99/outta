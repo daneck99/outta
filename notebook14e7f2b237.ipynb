---------------------------------------------------------------------------
RuntimeError                              Traceback (most recent call last)
Cell In[100], line 5
      2 model = Model().to(device)
      4 # 모델 요약 정보 출력
----> 5 summary_model(model, input_shape=train_dataset.__getitem__(0)[0].shape)

Cell In[55], line 7, in summary_model(model, input_shape)
      5 def summary_model(model, input_shape=(384,)):
      6     model = model.to(device)
----> 7     summary_(model, input_shape)

File /opt/conda/lib/python3.10/site-packages/torchsummary/torchsummary.py:72, in summary(model, input_size, batch_size, device)
     68 model.apply(register_hook)
     70 # make a forward pass
     71 # print(x.shape)
---> 72 model(*x)
     74 # remove these hooks
     75 for h in hooks:

File /opt/conda/lib/python3.10/site-packages/torch/nn/modules/module.py:1553, in Module._wrapped_call_impl(self, *args, **kwargs)
   1551     return self._compiled_call_impl(*args, **kwargs)  # type: ignore[misc]
   1552 else:
-> 1553     return self._call_impl(*args, **kwargs)

File /opt/conda/lib/python3.10/site-packages/torch/nn/modules/module.py:1562, in Module._call_impl(self, *args, **kwargs)
   1557 # If we don't have any hooks, we want to skip the rest of the logic in
   1558 # this function, and just call forward.
   1559 if not (self._backward_hooks or self._backward_pre_hooks or self._forward_hooks or self._forward_pre_hooks
   1560         or _global_backward_pre_hooks or _global_backward_hooks
   1561         or _global_forward_hooks or _global_forward_pre_hooks):
-> 1562     return forward_call(*args, **kwargs)
   1564 try:
   1565     result = None

Cell In[98], line 65, in Model.forward(self, x)
     55 """
     56 모델의 순전파 함수입니다.
     57 
   (...)
     62     torch.Tensor: 출력 예측값
     63 """
     64 x = torch.unsqueeze(x, axis=1)
---> 65 x = self.features(x)
     66 x = self.classifier(x)
     68 return x

File /opt/conda/lib/python3.10/site-packages/torch/nn/modules/module.py:1553, in Module._wrapped_call_impl(self, *args, **kwargs)
   1551     return self._compiled_call_impl(*args, **kwargs)  # type: ignore[misc]
   1552 else:
-> 1553     return self._call_impl(*args, **kwargs)

File /opt/conda/lib/python3.10/site-packages/torch/nn/modules/module.py:1562, in Module._call_impl(self, *args, **kwargs)
   1557 # If we don't have any hooks, we want to skip the rest of the logic in
   1558 # this function, and just call forward.
   1559 if not (self._backward_hooks or self._backward_pre_hooks or self._forward_hooks or self._forward_pre_hooks
   1560         or _global_backward_pre_hooks or _global_backward_hooks
   1561         or _global_forward_hooks or _global_forward_pre_hooks):
-> 1562     return forward_call(*args, **kwargs)
   1564 try:
   1565     result = None

File /opt/conda/lib/python3.10/site-packages/torch/nn/modules/container.py:219, in Sequential.forward(self, input)
    217 def forward(self, input):
    218     for module in self:
--> 219         input = module(input)
    220     return input

File /opt/conda/lib/python3.10/site-packages/torch/nn/modules/module.py:1553, in Module._wrapped_call_impl(self, *args, **kwargs)
   1551     return self._compiled_call_impl(*args, **kwargs)  # type: ignore[misc]
   1552 else:
-> 1553     return self._call_impl(*args, **kwargs)

File /opt/conda/lib/python3.10/site-packages/torch/nn/modules/module.py:1603, in Module._call_impl(self, *args, **kwargs)
   1600     bw_hook = hooks.BackwardHook(self, full_backward_hooks, backward_pre_hooks)
   1601     args = bw_hook.setup_input_hook(args)
-> 1603 result = forward_call(*args, **kwargs)
   1604 if _global_forward_hooks or self._forward_hooks:
   1605     for hook_id, hook in (
   1606         *_global_forward_hooks.items(),
   1607         *self._forward_hooks.items(),
   1608     ):
   1609         # mark that always called hook is run

File /opt/conda/lib/python3.10/site-packages/torch/nn/modules/conv.py:308, in Conv1d.forward(self, input)
    307 def forward(self, input: Tensor) -> Tensor:
--> 308     return self._conv_forward(input, self.weight, self.bias)

File /opt/conda/lib/python3.10/site-packages/torch/nn/modules/conv.py:304, in Conv1d._conv_forward(self, input, weight, bias)
    300 if self.padding_mode != 'zeros':
    301     return F.conv1d(F.pad(input, self._reversed_padding_repeated_twice, mode=self.padding_mode),
    302                     weight, bias, self.stride,
    303                     _single(0), self.dilation, self.groups)
--> 304 return F.conv1d(input, weight, bias, self.stride,
    305                 self.padding, self.dilation, self.groups)

RuntimeError: Given groups=1, weight of size [64, 2, 3], expected input[2, 1, 32] to have 2 channels, but got 1 channels instead
